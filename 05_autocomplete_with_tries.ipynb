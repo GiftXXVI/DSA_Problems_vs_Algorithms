{
 "cells": [
  {
   "cell_type": "markdown",
   "metadata": {},
   "source": [
    "# Building a Trie in Python\n",
    "\n",
    "Before we start let us reiterate the key components of a Trie or Prefix Tree. A trie is a tree-like data structure that stores a dynamic set of strings. Tries are commonly used to facilitate operations like predictive text or autocomplete features on mobile phones or web search.\n",
    "\n",
    "Before we move into the autocomplete function we need to create a working trie for storing strings.  We will create two classes:\n",
    "* A `Trie` class that contains the root node (empty string)\n",
    "* A `TrieNode` class that exposes the general functionality of the Trie, like inserting a word or finding the node which represents a prefix.\n",
    "\n",
    "Give it a try by implementing the `TrieNode` and `Trie` classes below!"
   ]
  },
  {
   "cell_type": "code",
   "execution_count": 1,
   "metadata": {
    "collapsed": true
   },
   "outputs": [],
   "source": [
    "## Represents a single node in the Trie\n",
    "class TrieNode:\n",
    "    def __init__(self, value='', terminal=False):\n",
    "        # Initialize this node in the Trie\n",
    "        self.is_terminal = terminal\n",
    "        self.value = value\n",
    "        self.children = [None for _ in range(26)]\n",
    "\n",
    "    def insert(self, char):\n",
    "        # Add a child node in this Trie\n",
    "        self.children[TrieNode.map_chr(char)] = TrieNode(value=char)\n",
    "\n",
    "    @staticmethod\n",
    "    def map_chr(char):\n",
    "        chr_map = {\n",
    "            'a': 0,\n",
    "            'b': 1,\n",
    "            'c': 2,\n",
    "            'd': 3,\n",
    "            'e': 4,\n",
    "            'f': 5,\n",
    "            'g': 6,\n",
    "            'h': 7,\n",
    "            'i': 8,\n",
    "            'j': 9,\n",
    "            'k': 10,\n",
    "            'l': 11,\n",
    "            'm': 12,\n",
    "            'n': 13,\n",
    "            'o': 14,\n",
    "            'p': 15,\n",
    "            'q': 16,\n",
    "            'r': 17,\n",
    "            's': 18,\n",
    "            't': 19,\n",
    "            'u': 20,\n",
    "            'v': 21,\n",
    "            'w': 22,\n",
    "            'x': 23,\n",
    "            'y': 24,\n",
    "            'z': 25}\n",
    "        return chr_map[char]\n",
    "\n",
    "        \n",
    "## The Trie itself containing the root node and insert/find functions\n",
    "class Trie:\n",
    "    def __init__(self):\n",
    "        # Initialize this Trie (add a root node)\n",
    "        self.root = TrieNode()\n",
    "\n",
    "    def insert(self, word):\n",
    "        # Add a word to the Trie\n",
    "        node = self.root\n",
    "        if not self.contains(word):\n",
    "            for i, v in enumerate(word):\n",
    "                map_index = TrieNode.map_chr(v)\n",
    "                if node.children[map_index] is None:\n",
    "                    node.insert(word[i])\n",
    "                node = node.children[map_index]\n",
    "                if i == len(word) - 1:\n",
    "                    node.is_terminal = True\n",
    "\n",
    "    def find(self, prefix):\n",
    "        # Find the Trie node that represents this prefix\n",
    "        node = self.root\n",
    "        for i, v in enumerate(prefix):\n",
    "            map_index = TrieNode.map_chr(v)\n",
    "            if node.children[map_index] is None:\n",
    "                return None\n",
    "            node = node.children[map_index]\n",
    "        return node\n",
    "\n",
    "    def contains(self, prefix):\n",
    "        node = self.root\n",
    "        for i, v in enumerate(prefix):\n",
    "            map_index = TrieNode.map_chr(v)\n",
    "            if node.children[map_index] is None:\n",
    "                return False\n",
    "            node = node.children[map_index]\n",
    "        if node.is_terminal:\n",
    "            return True\n",
    "        return False\n"
   ]
  },
  {
   "cell_type": "markdown",
   "metadata": {},
   "source": [
    "# Finding Suffixes\n",
    "\n",
    "Now that we have a functioning Trie, we need to add the ability to list suffixes to implement our autocomplete feature.  To do that, we need to implement a new function on the `TrieNode` object that will return all complete word suffixes that exist below it in the trie.  For example, if our Trie contains the words `[\"fun\", \"function\", \"factory\"]` and we ask for suffixes from the `f` node, we would expect to receive `[\"un\", \"unction\", \"actory\"]` back from `node.suffixes()`.\n",
    "\n",
    "Using the code you wrote for the `TrieNode` above, try to add the suffixes function below. (Hint: recurse down the trie, collecting suffixes as you go.)"
   ]
  },
  {
   "cell_type": "code",
   "execution_count": 2,
   "metadata": {
    "collapsed": true
   },
   "outputs": [],
   "source": [
    "class TrieNode:\n",
    "    def __init__(self, value='', terminal=False):\n",
    "        # Initialize this node in the Trie\n",
    "        self.is_terminal = terminal\n",
    "        self.value = value\n",
    "        self.children = [None for _ in range(26)]\n",
    "\n",
    "    def insert(self, char):\n",
    "        # Add a child node in this Trie\n",
    "        self.children[TrieNode.map_chr(char)] = TrieNode(value=char)\n",
    "\n",
    "    def suffixes(self, suffix=''):\n",
    "        counter = 0\n",
    "        suffixes = self._suffixes(suffix, counter)\n",
    "        if len(suffixes) > 0:\n",
    "            if suffixes[0] == self.value:\n",
    "                del suffixes[0]\n",
    "        return suffixes\n",
    "\n",
    "    def _suffixes(self, suffix, counter):\n",
    "        if counter > 0:\n",
    "            suffix = f'{suffix}{self.value}'\n",
    "        suffixes = list()\n",
    "        if self.is_terminal:\n",
    "            suffixes.append(suffix)\n",
    "\n",
    "        for child in self.children:\n",
    "            if child is not None:\n",
    "                counter += 1\n",
    "                suffixes.extend(child._suffixes(suffix, counter))\n",
    "\n",
    "        return suffixes\n",
    "\n",
    "    @staticmethod\n",
    "    def map_chr(char):\n",
    "        chr_map = {\n",
    "            'a': 0,\n",
    "            'b': 1,\n",
    "            'c': 2,\n",
    "            'd': 3,\n",
    "            'e': 4,\n",
    "            'f': 5,\n",
    "            'g': 6,\n",
    "            'h': 7,\n",
    "            'i': 8,\n",
    "            'j': 9,\n",
    "            'k': 10,\n",
    "            'l': 11,\n",
    "            'm': 12,\n",
    "            'n': 13,\n",
    "            'o': 14,\n",
    "            'p': 15,\n",
    "            'q': 16,\n",
    "            'r': 17,\n",
    "            's': 18,\n",
    "            't': 19,\n",
    "            'u': 20,\n",
    "            'v': 21,\n",
    "            'w': 22,\n",
    "            'x': 23,\n",
    "            'y': 24,\n",
    "            'z': 25}\n",
    "        return chr_map[char]\n",
    "\n"
   ]
  },
  {
   "cell_type": "markdown",
   "metadata": {},
   "source": [
    "# Testing it all out\n",
    "\n",
    "Run the following code to add some words to your trie and then use the interactive search box to see what your code returns."
   ]
  },
  {
   "cell_type": "code",
   "execution_count": 3,
   "metadata": {
    "collapsed": true
   },
   "outputs": [],
   "source": [
    "MyTrie = Trie()\n",
    "wordList = [\n",
    "    \"ant\", \"anthology\", \"antagonist\", \"antonym\", \n",
    "    \"fun\", \"function\", \"factory\", \n",
    "    \"trie\", \"trigger\", \"trigonometry\", \"tripod\"\n",
    "]\n",
    "for word in wordList:\n",
    "    MyTrie.insert(word)"
   ]
  },
  {
   "cell_type": "code",
   "execution_count": 4,
   "metadata": {
    "collapsed": true
   },
   "outputs": [
    {
     "data": {
      "application/vnd.jupyter.widget-view+json": {
       "model_id": "850bab41d76c4cc69a51ea1b265162e7",
       "version_major": 2,
       "version_minor": 0
      },
      "text/plain": [
       "interactive(children=(Text(value='', description='prefix'), Output()), _dom_classes=('widget-interact',))"
      ]
     },
     "metadata": {},
     "output_type": "display_data"
    }
   ],
   "source": [
    "from ipywidgets import widgets\n",
    "from IPython.display import display\n",
    "from ipywidgets import interact\n",
    "def f(prefix):\n",
    "    if prefix != '':\n",
    "        prefixNode = MyTrie.find(prefix)\n",
    "        if prefixNode:\n",
    "            print('\\n'.join(prefixNode.suffixes()))\n",
    "        else:\n",
    "            print(prefix + \" not found\")\n",
    "    else:\n",
    "        print('')\n",
    "interact(f,prefix='');"
   ]
  }
 ],
 "metadata": {
  "kernelspec": {
   "display_name": "Python 3",
   "language": "python",
   "name": "python3"
  },
  "language_info": {
   "codemirror_mode": {
    "name": "ipython",
    "version": 3
   },
   "file_extension": ".py",
   "mimetype": "text/x-python",
   "name": "python",
   "nbconvert_exporter": "python",
   "pygments_lexer": "ipython3",
   "version": "3.8.10"
  },
  "widgets": {
   "state": {},
   "version": "1.1.2"
  }
 },
 "nbformat": 4,
 "nbformat_minor": 2
}
